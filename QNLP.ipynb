{
  "nbformat": 4,
  "nbformat_minor": 0,
  "metadata": {
    "colab": {
      "provenance": []
    },
    "kernelspec": {
      "name": "python3",
      "display_name": "Python 3"
    },
    "language_info": {
      "name": "python"
    }
  },
  "cells": [
    {
      "cell_type": "code",
      "source": [
        "!pip install pennylane"
      ],
      "metadata": {
        "colab": {
          "base_uri": "https://localhost:8080/"
        },
        "id": "f21krlmJ19eP",
        "outputId": "8b409108-3377-4927-b297-8771b940b73f"
      },
      "execution_count": null,
      "outputs": [
        {
          "output_type": "stream",
          "name": "stdout",
          "text": [
            "Collecting pennylane\n",
            "  Downloading PennyLane-0.31.0-py3-none-any.whl (1.4 MB)\n",
            "\u001b[?25l     \u001b[90m━━━━━━━━━━━━━━━━━━━━━━━━━━━━━━━━━━━━━━━━\u001b[0m \u001b[32m0.0/1.4 MB\u001b[0m \u001b[31m?\u001b[0m eta \u001b[36m-:--:--\u001b[0m\r\u001b[2K     \u001b[91m━━━━━━━\u001b[0m\u001b[90m╺\u001b[0m\u001b[90m━━━━━━━━━━━━━━━━━━━━━━━━━━━━━━━━\u001b[0m \u001b[32m0.3/1.4 MB\u001b[0m \u001b[31m7.8 MB/s\u001b[0m eta \u001b[36m0:00:01\u001b[0m\r\u001b[2K     \u001b[91m━━━━━━━━━━━━━━━━━━━━━━━━━━━━━━━━━━━━━━━\u001b[0m\u001b[91m╸\u001b[0m \u001b[32m1.4/1.4 MB\u001b[0m \u001b[31m21.6 MB/s\u001b[0m eta \u001b[36m0:00:01\u001b[0m\r\u001b[2K     \u001b[90m━━━━━━━━━━━━━━━━━━━━━━━━━━━━━━━━━━━━━━━━\u001b[0m \u001b[32m1.4/1.4 MB\u001b[0m \u001b[31m16.5 MB/s\u001b[0m eta \u001b[36m0:00:00\u001b[0m\n",
            "\u001b[?25hRequirement already satisfied: numpy<1.24 in /usr/local/lib/python3.10/dist-packages (from pennylane) (1.22.4)\n",
            "Collecting scipy<=1.10 (from pennylane)\n",
            "  Downloading scipy-1.10.0-cp310-cp310-manylinux_2_17_x86_64.manylinux2014_x86_64.whl (34.4 MB)\n",
            "\u001b[2K     \u001b[90m━━━━━━━━━━━━━━━━━━━━━━━━━━━━━━━━━━━━━━━━\u001b[0m \u001b[32m34.4/34.4 MB\u001b[0m \u001b[31m41.5 MB/s\u001b[0m eta \u001b[36m0:00:00\u001b[0m\n",
            "\u001b[?25hRequirement already satisfied: networkx in /usr/local/lib/python3.10/dist-packages (from pennylane) (3.1)\n",
            "Collecting rustworkx (from pennylane)\n",
            "  Downloading rustworkx-0.13.0-cp310-cp310-manylinux_2_17_x86_64.manylinux2014_x86_64.whl (1.9 MB)\n",
            "\u001b[2K     \u001b[90m━━━━━━━━━━━━━━━━━━━━━━━━━━━━━━━━━━━━━━━━\u001b[0m \u001b[32m1.9/1.9 MB\u001b[0m \u001b[31m74.4 MB/s\u001b[0m eta \u001b[36m0:00:00\u001b[0m\n",
            "\u001b[?25hCollecting autograd<=1.5 (from pennylane)\n",
            "  Downloading autograd-1.5-py3-none-any.whl (48 kB)\n",
            "\u001b[2K     \u001b[90m━━━━━━━━━━━━━━━━━━━━━━━━━━━━━━━━━━━━━━━━\u001b[0m \u001b[32m48.9/48.9 kB\u001b[0m \u001b[31m4.6 MB/s\u001b[0m eta \u001b[36m0:00:00\u001b[0m\n",
            "\u001b[?25hRequirement already satisfied: toml in /usr/local/lib/python3.10/dist-packages (from pennylane) (0.10.2)\n",
            "Requirement already satisfied: appdirs in /usr/local/lib/python3.10/dist-packages (from pennylane) (1.4.4)\n",
            "Collecting semantic-version>=2.7 (from pennylane)\n",
            "  Downloading semantic_version-2.10.0-py2.py3-none-any.whl (15 kB)\n",
            "Collecting autoray>=0.3.1 (from pennylane)\n",
            "  Downloading autoray-0.6.3-py3-none-any.whl (48 kB)\n",
            "\u001b[2K     \u001b[90m━━━━━━━━━━━━━━━━━━━━━━━━━━━━━━━━━━━━━━━━\u001b[0m \u001b[32m48.3/48.3 kB\u001b[0m \u001b[31m4.8 MB/s\u001b[0m eta \u001b[36m0:00:00\u001b[0m\n",
            "\u001b[?25hRequirement already satisfied: cachetools in /usr/local/lib/python3.10/dist-packages (from pennylane) (5.3.1)\n",
            "Collecting pennylane-lightning>=0.31 (from pennylane)\n",
            "  Downloading PennyLane_Lightning-0.31.0-cp310-cp310-manylinux_2_17_x86_64.manylinux2014_x86_64.whl (16.6 MB)\n",
            "\u001b[2K     \u001b[90m━━━━━━━━━━━━━━━━━━━━━━━━━━━━━━━━━━━━━━━━\u001b[0m \u001b[32m16.6/16.6 MB\u001b[0m \u001b[31m71.2 MB/s\u001b[0m eta \u001b[36m0:00:00\u001b[0m\n",
            "\u001b[?25hRequirement already satisfied: requests in /usr/local/lib/python3.10/dist-packages (from pennylane) (2.27.1)\n",
            "Requirement already satisfied: future>=0.15.2 in /usr/local/lib/python3.10/dist-packages (from autograd<=1.5->pennylane) (0.18.3)\n",
            "Requirement already satisfied: urllib3<1.27,>=1.21.1 in /usr/local/lib/python3.10/dist-packages (from requests->pennylane) (1.26.16)\n",
            "Requirement already satisfied: certifi>=2017.4.17 in /usr/local/lib/python3.10/dist-packages (from requests->pennylane) (2023.5.7)\n",
            "Requirement already satisfied: charset-normalizer~=2.0.0 in /usr/local/lib/python3.10/dist-packages (from requests->pennylane) (2.0.12)\n",
            "Requirement already satisfied: idna<4,>=2.5 in /usr/local/lib/python3.10/dist-packages (from requests->pennylane) (3.4)\n",
            "Installing collected packages: semantic-version, scipy, rustworkx, autoray, autograd, pennylane-lightning, pennylane\n",
            "  Attempting uninstall: scipy\n",
            "    Found existing installation: scipy 1.10.1\n",
            "    Uninstalling scipy-1.10.1:\n",
            "      Successfully uninstalled scipy-1.10.1\n",
            "  Attempting uninstall: autograd\n",
            "    Found existing installation: autograd 1.6.1\n",
            "    Uninstalling autograd-1.6.1:\n",
            "      Successfully uninstalled autograd-1.6.1\n",
            "Successfully installed autograd-1.5 autoray-0.6.3 pennylane-0.31.0 pennylane-lightning-0.31.0 rustworkx-0.13.0 scipy-1.10.0 semantic-version-2.10.0\n"
          ]
        }
      ]
    },
    {
      "cell_type": "code",
      "source": [
        "import qlstm_cell"
      ],
      "metadata": {
        "id": "qb0DqfKt1xHB"
      },
      "execution_count": null,
      "outputs": []
    },
    {
      "cell_type": "code",
      "execution_count": null,
      "metadata": {
        "id": "Tv1YN6KV0_xr"
      },
      "outputs": [],
      "source": [
        "import torch\n",
        "from torch import nn\n",
        "import torch.nn.functional as F\n",
        "from torch import optim\n",
        "from torch.utils.data import Dataset, DataLoader\n",
        "\n",
        "import matplotlib.pyplot as plt\n",
        "import pandas as pd\n",
        "from sklearn.model_selection import train_test_split\n",
        "from qlstm_cell import QLSTMCell\n",
        "import numpy as np\n",
        "import time"
      ]
    },
    {
      "cell_type": "code",
      "source": [
        "device = torch.device(\"cuda\" if torch.cuda.is_available() else \"cpu\")\n",
        "print(device)"
      ],
      "metadata": {
        "colab": {
          "base_uri": "https://localhost:8080/"
        },
        "id": "y6btwZ7m1r9x",
        "outputId": "fc88b46b-509c-4b78-dd9d-1f761b253216"
      },
      "execution_count": null,
      "outputs": [
        {
          "output_type": "stream",
          "name": "stdout",
          "text": [
            "cpu\n"
          ]
        }
      ]
    },
    {
      "cell_type": "code",
      "source": [
        "df = pd.read_csv(\"balans1.csv\")\n",
        "df = df.dropna()\n",
        "\n",
        "# convert class name\n",
        "X = df[\"text\"].to_list()\n",
        "y = df[\"label\"].to_list()\n",
        "\n",
        "df.head()"
      ],
      "metadata": {
        "colab": {
          "base_uri": "https://localhost:8080/",
          "height": 206
        },
        "id": "mqAvu-_y2O6H",
        "outputId": "8c9a002b-3e09-48fd-9e26-26a602dbd52c"
      },
      "execution_count": null,
      "outputs": [
        {
          "output_type": "execute_result",
          "data": {
            "text/plain": [
              "                                      text  label\n",
              "0                     Kvitka Tsysyk Street    2.0\n",
              "1                                       PE    1.0\n",
              "2  Private joint-stock company Kyivmiskbud    0.0\n",
              "3   Water inlets to a residential building    0.0\n",
              "4                            Pravda Avenue    2.0"
            ],
            "text/html": [
              "\n",
              "  <div id=\"df-96328e04-3787-493e-9210-6f0ec9655db9\">\n",
              "    <div class=\"colab-df-container\">\n",
              "      <div>\n",
              "<style scoped>\n",
              "    .dataframe tbody tr th:only-of-type {\n",
              "        vertical-align: middle;\n",
              "    }\n",
              "\n",
              "    .dataframe tbody tr th {\n",
              "        vertical-align: top;\n",
              "    }\n",
              "\n",
              "    .dataframe thead th {\n",
              "        text-align: right;\n",
              "    }\n",
              "</style>\n",
              "<table border=\"1\" class=\"dataframe\">\n",
              "  <thead>\n",
              "    <tr style=\"text-align: right;\">\n",
              "      <th></th>\n",
              "      <th>text</th>\n",
              "      <th>label</th>\n",
              "    </tr>\n",
              "  </thead>\n",
              "  <tbody>\n",
              "    <tr>\n",
              "      <th>0</th>\n",
              "      <td>Kvitka Tsysyk Street</td>\n",
              "      <td>2.0</td>\n",
              "    </tr>\n",
              "    <tr>\n",
              "      <th>1</th>\n",
              "      <td>PE</td>\n",
              "      <td>1.0</td>\n",
              "    </tr>\n",
              "    <tr>\n",
              "      <th>2</th>\n",
              "      <td>Private joint-stock company Kyivmiskbud</td>\n",
              "      <td>0.0</td>\n",
              "    </tr>\n",
              "    <tr>\n",
              "      <th>3</th>\n",
              "      <td>Water inlets to a residential building</td>\n",
              "      <td>0.0</td>\n",
              "    </tr>\n",
              "    <tr>\n",
              "      <th>4</th>\n",
              "      <td>Pravda Avenue</td>\n",
              "      <td>2.0</td>\n",
              "    </tr>\n",
              "  </tbody>\n",
              "</table>\n",
              "</div>\n",
              "      <button class=\"colab-df-convert\" onclick=\"convertToInteractive('df-96328e04-3787-493e-9210-6f0ec9655db9')\"\n",
              "              title=\"Convert this dataframe to an interactive table.\"\n",
              "              style=\"display:none;\">\n",
              "        \n",
              "  <svg xmlns=\"http://www.w3.org/2000/svg\" height=\"24px\"viewBox=\"0 0 24 24\"\n",
              "       width=\"24px\">\n",
              "    <path d=\"M0 0h24v24H0V0z\" fill=\"none\"/>\n",
              "    <path d=\"M18.56 5.44l.94 2.06.94-2.06 2.06-.94-2.06-.94-.94-2.06-.94 2.06-2.06.94zm-11 1L8.5 8.5l.94-2.06 2.06-.94-2.06-.94L8.5 2.5l-.94 2.06-2.06.94zm10 10l.94 2.06.94-2.06 2.06-.94-2.06-.94-.94-2.06-.94 2.06-2.06.94z\"/><path d=\"M17.41 7.96l-1.37-1.37c-.4-.4-.92-.59-1.43-.59-.52 0-1.04.2-1.43.59L10.3 9.45l-7.72 7.72c-.78.78-.78 2.05 0 2.83L4 21.41c.39.39.9.59 1.41.59.51 0 1.02-.2 1.41-.59l7.78-7.78 2.81-2.81c.8-.78.8-2.07 0-2.86zM5.41 20L4 18.59l7.72-7.72 1.47 1.35L5.41 20z\"/>\n",
              "  </svg>\n",
              "      </button>\n",
              "      \n",
              "  <style>\n",
              "    .colab-df-container {\n",
              "      display:flex;\n",
              "      flex-wrap:wrap;\n",
              "      gap: 12px;\n",
              "    }\n",
              "\n",
              "    .colab-df-convert {\n",
              "      background-color: #E8F0FE;\n",
              "      border: none;\n",
              "      border-radius: 50%;\n",
              "      cursor: pointer;\n",
              "      display: none;\n",
              "      fill: #1967D2;\n",
              "      height: 32px;\n",
              "      padding: 0 0 0 0;\n",
              "      width: 32px;\n",
              "    }\n",
              "\n",
              "    .colab-df-convert:hover {\n",
              "      background-color: #E2EBFA;\n",
              "      box-shadow: 0px 1px 2px rgba(60, 64, 67, 0.3), 0px 1px 3px 1px rgba(60, 64, 67, 0.15);\n",
              "      fill: #174EA6;\n",
              "    }\n",
              "\n",
              "    [theme=dark] .colab-df-convert {\n",
              "      background-color: #3B4455;\n",
              "      fill: #D2E3FC;\n",
              "    }\n",
              "\n",
              "    [theme=dark] .colab-df-convert:hover {\n",
              "      background-color: #434B5C;\n",
              "      box-shadow: 0px 1px 3px 1px rgba(0, 0, 0, 0.15);\n",
              "      filter: drop-shadow(0px 1px 2px rgba(0, 0, 0, 0.3));\n",
              "      fill: #FFFFFF;\n",
              "    }\n",
              "  </style>\n",
              "\n",
              "      <script>\n",
              "        const buttonEl =\n",
              "          document.querySelector('#df-96328e04-3787-493e-9210-6f0ec9655db9 button.colab-df-convert');\n",
              "        buttonEl.style.display =\n",
              "          google.colab.kernel.accessAllowed ? 'block' : 'none';\n",
              "\n",
              "        async function convertToInteractive(key) {\n",
              "          const element = document.querySelector('#df-96328e04-3787-493e-9210-6f0ec9655db9');\n",
              "          const dataTable =\n",
              "            await google.colab.kernel.invokeFunction('convertToInteractive',\n",
              "                                                     [key], {});\n",
              "          if (!dataTable) return;\n",
              "\n",
              "          const docLinkHtml = 'Like what you see? Visit the ' +\n",
              "            '<a target=\"_blank\" href=https://colab.research.google.com/notebooks/data_table.ipynb>data table notebook</a>'\n",
              "            + ' to learn more about interactive tables.';\n",
              "          element.innerHTML = '';\n",
              "          dataTable['output_type'] = 'display_data';\n",
              "          await google.colab.output.renderOutput(dataTable, element);\n",
              "          const docLink = document.createElement('div');\n",
              "          docLink.innerHTML = docLinkHtml;\n",
              "          element.appendChild(docLink);\n",
              "        }\n",
              "      </script>\n",
              "    </div>\n",
              "  </div>\n",
              "  "
            ]
          },
          "metadata": {},
          "execution_count": 60
        }
      ]
    },
    {
      "cell_type": "code",
      "source": [
        "tokens = [x_i.split(\" \") for x_i in X]\n",
        "\n",
        "word_to_ix = {0: 0}  # padding idx\n",
        "# For each words-list (sentence) and tags-list in each tuple of training_data\n",
        "for sent in tokens:\n",
        "    for word in sent:\n",
        "        if word not in word_to_ix:  # word has not been assigned an index yet\n",
        "            word_to_ix[word] = len(word_to_ix)  # Assign each word with a unique index\n",
        "vocab_size = len(word_to_ix.keys())\n",
        "print(f\"Vocab size: {vocab_size}\")"
      ],
      "metadata": {
        "colab": {
          "base_uri": "https://localhost:8080/"
        },
        "id": "HtA67tG62O3W",
        "outputId": "06088d4d-22a0-4cf5-8749-b5774870ded7"
      },
      "execution_count": null,
      "outputs": [
        {
          "output_type": "stream",
          "name": "stdout",
          "text": [
            "Vocab size: 55\n"
          ]
        }
      ]
    },
    {
      "cell_type": "code",
      "source": [
        "X_train, X_test, y_train, y_test = train_test_split(\n",
        "    X, y, test_size=0.2, random_state=42\n",
        ")\n",
        "X_train, X_val, y_train, y_val = train_test_split(\n",
        "    X_train, y_train, test_size=0.1, random_state=42\n",
        ")\n",
        "\n",
        "print(f\"Train: {len(y_train)}; Val: {len(y_val)}; Test: {len(y_test)}\")"
      ],
      "metadata": {
        "colab": {
          "base_uri": "https://localhost:8080/"
        },
        "id": "wvqtuGpV2O0t",
        "outputId": "321205fa-fa5f-48d8-a0d0-4734998785aa"
      },
      "execution_count": null,
      "outputs": [
        {
          "output_type": "stream",
          "name": "stdout",
          "text": [
            "Train: 715; Val: 80; Test: 199\n"
          ]
        }
      ]
    },
    {
      "cell_type": "code",
      "source": [
        "class SentimentDataset(Dataset):\n",
        "    def __init__(self, X, y, to_ix: dict, device):\n",
        "        self.X = X\n",
        "        self.y = y\n",
        "        self.to_ix = to_ix\n",
        "\n",
        "        # transform text to ix in vocab\n",
        "        self.X_ix = [self._transform_to_ix(x_i.split(\" \")) for x_i in X]\n",
        "        # pad sequences to same length\n",
        "        pad_len = len(max(self.X_ix, key=len))\n",
        "        self.X_pad = self._pad_seq(self.X_ix, pad_len)\n",
        "        # to tensor\n",
        "        self.X_t = torch.LongTensor(self.X_pad).to(device)\n",
        "\n",
        "        # transform labels to tensors\n",
        "        self.y_t = torch.LongTensor(y).to(device)\n",
        "\n",
        "    def _transform_to_ix(self, seq):\n",
        "        idxs = [self.to_ix[w] for w in seq]\n",
        "        return idxs\n",
        "\n",
        "    def _pad_seq(self, X, length: int):\n",
        "        padded = []\n",
        "        for row in X:\n",
        "            p = np.pad(row, (0, length - len(row))).tolist()\n",
        "            padded.append(p)\n",
        "        return np.asarray(padded, dtype=np.int32)\n",
        "\n",
        "    def __len__(self):\n",
        "        return len(self.y_t)\n",
        "\n",
        "    def __getitem__(self, idx):\n",
        "        return self.X_t[idx], self.y_t[idx]"
      ],
      "metadata": {
        "id": "Bxb7eyyo2OyA"
      },
      "execution_count": null,
      "outputs": []
    },
    {
      "cell_type": "code",
      "source": [
        "batch_size = 64\n",
        "\n",
        "dataset_train = SentimentDataset(X_train, y_train, word_to_ix, device)\n",
        "train_loader = DataLoader(dataset_train, batch_size=batch_size, shuffle=True)\n",
        "\n",
        "dataset_val = SentimentDataset(X_val, y_val, word_to_ix, device)\n",
        "val_loader = DataLoader(dataset_val, batch_size=batch_size, shuffle=False)\n",
        "\n",
        "dataset_test = SentimentDataset(X_test, y_test, word_to_ix, device)\n",
        "test_loader = DataLoader(dataset_test, batch_size=batch_size, shuffle=False)"
      ],
      "metadata": {
        "id": "gRahNNVq2OvV"
      },
      "execution_count": null,
      "outputs": []
    },
    {
      "cell_type": "code",
      "source": [
        "class LSTMClassifier(nn.Module):\n",
        "    def __init__(\n",
        "        self,\n",
        "        embedding_dim: int = 8,\n",
        "        hidden_dim: int = 32,\n",
        "        vocab_size: int = 100,\n",
        "        output_size: int = 2,\n",
        "        n_qubits: int = 4,\n",
        "        n_qlayers: int = 1,\n",
        "        qml_device: str = \"default.qubit\",\n",
        "        learning_rate: float = 0.1,\n",
        "        n_epochs: int = 300,\n",
        "        batch_size: int = 1,\n",
        "        linear_dropout: float = 0.1,\n",
        "        rnn_dropout: float = 0.1,\n",
        "        rnn_layers: int = 1,\n",
        "        weight_decay: float = 1e-5,\n",
        "        momentum: float = 0.9,\n",
        "        rnn: str = \"lstm\",\n",
        "        rnn_bidirectional: bool = False,\n",
        "        torch_device=torch.device(\"cpu\"),\n",
        "    ):\n",
        "        super(LSTMClassifier, self).__init__()\n",
        "        # params\n",
        "        self.embedding_dim = embedding_dim\n",
        "        self.hidden_dim = hidden_dim\n",
        "        self.vocab_size = vocab_size\n",
        "        self.output_size = output_size\n",
        "        self.n_qubits = n_qubits\n",
        "        self.n_qlayers = n_qlayers\n",
        "        self.batch_size = batch_size\n",
        "        self.rnn_dropout = rnn_dropout\n",
        "        self.linear_dropout = linear_dropout\n",
        "        self.n_epochs = n_epochs\n",
        "        self.learning_rate = learning_rate\n",
        "        self.weight_decay = weight_decay\n",
        "        self.rnn_layers = rnn_layers\n",
        "        self.rnn_bidirectional = rnn_bidirectional\n",
        "        self.qml_device = qml_device\n",
        "        self.torch_device = torch_device\n",
        "\n",
        "        # init word embeddings\n",
        "        self.word_embeddings = nn.Embedding(vocab_size, embedding_dim, padding_idx=0)\n",
        "\n",
        "        # The LSTM takes word embeddings as inputs, and outputs hidden states\n",
        "        # with dimensionality hidden_dim.\n",
        "        if rnn == \"qlstm\":\n",
        "            print(\"Model will use Quantum LSTM\")\n",
        "            self.lstm = QLSTMCell(\n",
        "                self.embedding_dim,\n",
        "                hidden_dim,\n",
        "                n_qubits=self.n_qubits,\n",
        "                n_qlayers=self.n_qlayers,\n",
        "                qml_device=self.qml_device,\n",
        "                torch_device=self.torch_device,\n",
        "            )\n",
        "        elif rnn == \"lstm\":\n",
        "            print(\"Model will use Classical LSTM\")\n",
        "            self.lstm = nn.LSTM(\n",
        "                self.embedding_dim,\n",
        "                hidden_dim,\n",
        "                batch_first=True,\n",
        "                num_layers=rnn_layers,\n",
        "                dropout=self.rnn_dropout,\n",
        "                bidirectional=rnn_bidirectional,\n",
        "            )\n",
        "        elif rnn == \"gru\":\n",
        "            print(\"Model will use Classical GRU\")\n",
        "            self.lstm = nn.GRU(\n",
        "                self.embedding_dim,\n",
        "                hidden_dim,\n",
        "                batch_first=True,\n",
        "                num_layers=rnn_layers,\n",
        "                dropout=self.rnn_dropout,\n",
        "                bidirectional=rnn_bidirectional,\n",
        "            )\n",
        "        else:\n",
        "            raise ValueError(\"Invalid rnn layer\")\n",
        "\n",
        "        self.D = 2 if rnn_bidirectional else 1  # lstm bidirectional hidden states\n",
        "        self.hidden_layers = nn.Sequential(\n",
        "            nn.Linear(self.D * hidden_dim, self.D * hidden_dim), nn.ReLU()\n",
        "        )\n",
        "\n",
        "        # The linear layer that maps from hidden state space to tag space\n",
        "        self.label = nn.Linear(self.D * hidden_dim, output_size)\n",
        "\n",
        "        self.optimizer = optim.RMSprop(\n",
        "            self.parameters(),\n",
        "            lr=learning_rate,\n",
        "            weight_decay=weight_decay,\n",
        "            momentum=momentum,\n",
        "        )\n",
        "        self.lr_scheduler = optim.lr_scheduler.ReduceLROnPlateau(self.optimizer, \"min\")\n",
        "\n",
        "        self.loss_function = nn.NLLLoss()\n",
        "        self.dropout = nn.Dropout(p=self.linear_dropout)\n",
        "\n",
        "    def forward(self, sentence):\n",
        "        # transform from word indices to word embeddings\n",
        "        embeds = self.word_embeddings(sentence)\n",
        "\n",
        "        # pass through lstm layers\n",
        "        lstm_out, _ = self.lstm(embeds)\n",
        "        out = lstm_out[:, -1, :]  # last hidden state of lstm output\n",
        "\n",
        "        # hidden layers\n",
        "        out = self.hidden_layers(out)\n",
        "\n",
        "        # apply dropout\n",
        "        out = self.dropout(out)\n",
        "\n",
        "        # cast to number of classes\n",
        "        logits = self.label(out)\n",
        "\n",
        "        # cast to log softmax probabilities\n",
        "        log_probs = F.log_softmax(logits, dim=-1)\n",
        "        return log_probs\n",
        "\n",
        "    def fit(self, train_loader: DataLoader, val_loader: DataLoader):\n",
        "        self.history = {\n",
        "            \"train/loss\": [],\n",
        "            \"train/acc\": [],\n",
        "            \"val/loss\": [],\n",
        "            \"val/acc\": [],\n",
        "        }\n",
        "\n",
        "        # iterate epochs\n",
        "        for epoch in range(self.n_epochs):\n",
        "            self.train()  # set train mode\n",
        "            losses = []\n",
        "            preds = []\n",
        "            targets = []\n",
        "\n",
        "            # iterate batches\n",
        "            for i, (sentence, label) in enumerate(train_loader):\n",
        "                # Step 1. Remember that Pytorch accumulates gradients.\n",
        "                # We need to clear them out before each instance\n",
        "                self.optimizer.zero_grad()\n",
        "\n",
        "                # Step 2. Run our forward pass.\n",
        "                y_hat = self(sentence)\n",
        "\n",
        "                # Step 3. Compute the loss, gradients, and update the parameters by\n",
        "                #  calling optimizer.step()\n",
        "                loss = self.loss_function(y_hat, label)\n",
        "                loss.backward()\n",
        "                self.optimizer.step()\n",
        "                losses.append(float(loss))\n",
        "                preds.append(y_hat.argmax(dim=-1))\n",
        "                targets.append(label)\n",
        "\n",
        "            avg_loss = np.mean(losses)\n",
        "            self.history[\"train/loss\"].append(avg_loss)\n",
        "\n",
        "            preds = torch.cat(preds)\n",
        "            targets = torch.cat(targets)\n",
        "            corrects = preds == targets\n",
        "            accuracy = corrects.sum().float() / float(targets.size(0))\n",
        "            self.history[\"train/acc\"].append(accuracy)\n",
        "\n",
        "            # calc validation loss and accuracy\n",
        "            val_loss, val_acc = self._validate(val_loader)\n",
        "\n",
        "            print(\n",
        "                f\"Epoch {epoch+1} / {self.n_epochs}: train/Loss = {avg_loss:.3f} val/Loss = {val_loss:.3f} train/Acc = {accuracy:.2f} val/Acc = {val_acc:.2f}\"\n",
        "            )\n",
        "\n",
        "    def _validate(self, val_loader: DataLoader):\n",
        "        self.eval()  # set eval mode\n",
        "        y_hat = []\n",
        "        y_pred = []\n",
        "        y_true = []\n",
        "\n",
        "        # iterate batches and predict on val set\n",
        "        for X_val, y_val in val_loader:\n",
        "            probs = self(X_val)\n",
        "            y_hat.append(probs)\n",
        "            y_pred.append(probs.argmax(dim=-1))\n",
        "            y_true.append(y_val)\n",
        "\n",
        "        y_hat = torch.cat(y_hat)\n",
        "        y_pred = torch.cat(y_pred)\n",
        "        y_true = torch.cat(y_true)\n",
        "        corrects = y_pred == y_true\n",
        "        val_acc = corrects.sum().float() / float(y_true.size(0))\n",
        "        val_loss = float(self.loss_function(y_hat, y_true))\n",
        "\n",
        "        self.history[\"val/loss\"].append(val_loss)\n",
        "        self.history[\"val/acc\"].append(val_acc)\n",
        "\n",
        "        return val_loss, val_acc\n",
        "\n",
        "    def predict(self, test_loader):\n",
        "        self.eval()\n",
        "        y_pred = []\n",
        "        for X, _ in test_loader:\n",
        "            y_hat = self(X)\n",
        "            preds = torch.argmax(y_hat, axis=1).cpu().numpy().tolist()\n",
        "            y_pred.extend(preds)\n",
        "        return y_pred"
      ],
      "metadata": {
        "id": "q6q2gLp_2OtT"
      },
      "execution_count": null,
      "outputs": []
    },
    {
      "cell_type": "code",
      "source": [
        "from matplotlib.ticker import MaxNLocator\n",
        "\n",
        "\n",
        "def plot_training(history, show=True):\n",
        "    fig, ax1 = plt.subplots()\n",
        "\n",
        "    # move tensors to cpu device\n",
        "    history[\"train/acc\"] = [t.cpu() for t in history[\"train/acc\"]]\n",
        "    history[\"val/acc\"] = [t.cpu() for t in history[\"val/acc\"]]\n",
        "\n",
        "    ax1.set_xlabel(\"Epoch\")\n",
        "    ax1.set_ylabel(\"Loss\")\n",
        "    x_range = range(1, len(history[\"train/loss\"]) + 1)  # correct x ticks\n",
        "    line1 = ax1.plot(x_range, history[\"train/loss\"], color=\"orange\", label=\"Train loss\")\n",
        "    line2 = ax1.plot(\n",
        "        x_range, history[\"val/loss\"], color=\"red\", linestyle=\"dashed\", label=\"Val loss\"\n",
        "    )\n",
        "\n",
        "    ax2 = ax1.twinx()\n",
        "    ax2.set_ylabel(\"Accuracy\")\n",
        "    line3 = ax2.plot(\n",
        "        x_range, history[\"train/acc\"], color=\"steelblue\", label=\"Train accuracy\"\n",
        "    )\n",
        "    line4 = ax2.plot(\n",
        "        x_range,\n",
        "        history[\"val/acc\"],\n",
        "        color=\"blue\",\n",
        "        linestyle=\"dashed\",\n",
        "        label=\"Val accuracy\",\n",
        "    )\n",
        "\n",
        "    ax1.xaxis.set_major_locator(MaxNLocator(integer=True))\n",
        "\n",
        "    fig.tight_layout()\n",
        "    # Shrink current axis by 20%\n",
        "    box = ax1.get_position()\n",
        "    ax1.set_position([box.x0, box.y0, box.width * 0.8, box.height])\n",
        "\n",
        "    # Put a legend to the right of the current axis\n",
        "    lines = line1 + line2 + line3 + line4\n",
        "    legend_labels = [l.get_label() for l in lines]\n",
        "    ax1.legend(lines, legend_labels, loc=\"upper left\", bbox_to_anchor=(1.3, 0.7))\n",
        "\n",
        "    fig.savefig(f\"{rnn}_{n_qlayers}_{n_qubits}.pdf\")\n",
        "    if show:\n",
        "        fig.show()"
      ],
      "metadata": {
        "id": "5W_2oFrq2OqZ"
      },
      "execution_count": null,
      "outputs": []
    },
    {
      "cell_type": "code",
      "source": [
        "from sklearn.metrics import accuracy_score, f1_score, matthews_corrcoef, roc_auc_score\n",
        "from sklearn.preprocessing import label_binarize\n",
        "\n",
        "\n",
        "def eval_metrics(y_test, y_pred):\n",
        "    acc = accuracy_score(y_test, y_pred)\n",
        "    f1 = f1_score(y_test, y_pred, average=\"weighted\")\n",
        "\n",
        "    # binarize labels for multi class auc score\n",
        "    labels = list(set(y_test))\n",
        "    y_test_bin = label_binarize(y_test, classes=labels)\n",
        "    y_pred_bin = label_binarize(y_pred, classes=labels)\n",
        "    auc = roc_auc_score(y_test_bin, y_pred_bin, average=\"weighted\", multi_class=\"ovo\")\n",
        "\n",
        "    mcc = matthews_corrcoef(y_test, y_pred)\n",
        "    return acc, f1, auc, mcc"
      ],
      "metadata": {
        "id": "l4y2s9Nd2OnW"
      },
      "execution_count": null,
      "outputs": []
    },
    {
      "cell_type": "code",
      "source": [
        "embedding_dim = 10\n",
        "hidden_dim = 16\n",
        "output_size = len(np.unique(y))\n",
        "n_epochs = 20\n",
        "n_qubits = 4\n",
        "n_qlayers = 1\n",
        "learning_rate = 1e-2\n",
        "linear_dropout = 0 # dropout for linear layers\n",
        "rnn_dropout = 0 # dropout for classical rnn layers\n",
        "rnn_layers = 1 # number of classical rnn layers\n",
        "weight_decay = 1e-4 # weight decay for optimizer / l2 regularization\n",
        "momentum = 0 # momentum for optimizer\n",
        "rnn = \"lstm\" # rnn layer -> lstm/qlstm/gru\n",
        "rnn_bidirectional = False # bidirectionality for classical rnn layer\n",
        "\n",
        "model = LSTMClassifier(\n",
        "    embedding_dim=embedding_dim,\n",
        "    hidden_dim=hidden_dim,\n",
        "    vocab_size=vocab_size,\n",
        "    output_size=output_size,\n",
        "    n_epochs=n_epochs,\n",
        "    learning_rate=learning_rate,\n",
        "    linear_dropout=linear_dropout,\n",
        "    rnn_dropout=rnn_dropout,\n",
        "    rnn_layers=rnn_layers,\n",
        "    batch_size=batch_size,\n",
        "    weight_decay=weight_decay,\n",
        "    momentum=momentum,\n",
        "    rnn=rnn,\n",
        "    rnn_bidirectional=rnn_bidirectional,\n",
        "    n_qubits=n_qubits,\n",
        "    n_qlayers=n_qlayers,\n",
        "    torch_device=device,\n",
        ")\n",
        "model.to(device)\n",
        "\n",
        "# start training and track time\n",
        "start_time = time.time()\n",
        "\n",
        "model.fit(train_loader, val_loader)\n",
        "\n",
        "training_time = round(time.time() - start_time, 2)\n",
        "print(f\"Training time: {training_time}sec\")"
      ],
      "metadata": {
        "colab": {
          "base_uri": "https://localhost:8080/"
        },
        "id": "Q3-Yg0G32kzF",
        "outputId": "3561ecdb-5bf2-4e6a-a182-a63b3ef5d427"
      },
      "execution_count": null,
      "outputs": [
        {
          "output_type": "stream",
          "name": "stdout",
          "text": [
            "Model will use Classical LSTM\n",
            "Epoch 1 / 20: train/Loss = 0.690 val/Loss = 0.459 train/Acc = 0.68 val/Acc = 0.76\n",
            "Epoch 2 / 20: train/Loss = 0.222 val/Loss = 0.058 train/Acc = 0.90 val/Acc = 0.99\n",
            "Epoch 3 / 20: train/Loss = 0.016 val/Loss = 0.048 train/Acc = 1.00 val/Acc = 0.99\n",
            "Epoch 4 / 20: train/Loss = 0.010 val/Loss = 0.050 train/Acc = 1.00 val/Acc = 0.99\n",
            "Epoch 5 / 20: train/Loss = 0.004 val/Loss = 0.031 train/Acc = 1.00 val/Acc = 0.99\n",
            "Epoch 6 / 20: train/Loss = 0.001 val/Loss = 0.036 train/Acc = 1.00 val/Acc = 0.99\n",
            "Epoch 7 / 20: train/Loss = 0.001 val/Loss = 0.041 train/Acc = 1.00 val/Acc = 0.99\n",
            "Epoch 8 / 20: train/Loss = 0.001 val/Loss = 0.044 train/Acc = 1.00 val/Acc = 0.99\n",
            "Epoch 9 / 20: train/Loss = 0.001 val/Loss = 0.048 train/Acc = 1.00 val/Acc = 0.99\n",
            "Epoch 10 / 20: train/Loss = 0.001 val/Loss = 0.051 train/Acc = 1.00 val/Acc = 0.99\n",
            "Epoch 11 / 20: train/Loss = 0.000 val/Loss = 0.053 train/Acc = 1.00 val/Acc = 0.99\n",
            "Epoch 12 / 20: train/Loss = 0.000 val/Loss = 0.054 train/Acc = 1.00 val/Acc = 0.99\n",
            "Epoch 13 / 20: train/Loss = 0.000 val/Loss = 0.055 train/Acc = 1.00 val/Acc = 0.99\n",
            "Epoch 14 / 20: train/Loss = 0.000 val/Loss = 0.053 train/Acc = 1.00 val/Acc = 0.99\n",
            "Epoch 15 / 20: train/Loss = 0.000 val/Loss = 0.053 train/Acc = 1.00 val/Acc = 0.99\n",
            "Epoch 16 / 20: train/Loss = 0.000 val/Loss = 0.053 train/Acc = 1.00 val/Acc = 0.99\n",
            "Epoch 17 / 20: train/Loss = 0.000 val/Loss = 0.052 train/Acc = 1.00 val/Acc = 0.99\n",
            "Epoch 18 / 20: train/Loss = 0.000 val/Loss = 0.053 train/Acc = 1.00 val/Acc = 0.99\n",
            "Epoch 19 / 20: train/Loss = 0.000 val/Loss = 0.050 train/Acc = 1.00 val/Acc = 0.99\n",
            "Epoch 20 / 20: train/Loss = 0.000 val/Loss = 0.051 train/Acc = 1.00 val/Acc = 0.99\n",
            "Training time: 1.68sec\n"
          ]
        }
      ]
    },
    {
      "cell_type": "code",
      "source": [
        "plot_training(model.history)"
      ],
      "metadata": {
        "colab": {
          "base_uri": "https://localhost:8080/",
          "height": 487
        },
        "id": "m6RpTEp52kw9",
        "outputId": "89e909a5-15b2-434a-85a6-3cd9a36237a9"
      },
      "execution_count": null,
      "outputs": [
        {
          "output_type": "display_data",
          "data": {
            "text/plain": [
              "<Figure size 640x480 with 2 Axes>"
            ],
            "image/png": "[encoded data removed]"
          },
          "metadata": {}
        }
      ]
    },
    {
      "cell_type": "code",
      "source": [
        "y_pred = model.predict(test_loader)\n",
        "\n",
        "acc, f1, auc, mcc = eval_metrics(y_test, y_pred)\n",
        "print(f\"Acc: {acc}, F1: {f1}, AUC: {auc}, MCC: {mcc}\")"
      ],
      "metadata": {
        "colab": {
          "base_uri": "https://localhost:8080/"
        },
        "id": "ReKOGlIE2kut",
        "outputId": "d0066268-c242-4320-cb40-92ce8e78c0d5"
      },
      "execution_count": null,
      "outputs": [
        {
          "output_type": "stream",
          "name": "stdout",
          "text": [
            "Acc: 1.0, F1: 1.0, AUC: 1.0, MCC: 1.0\n"
          ]
        }
      ]
    },
    {
      "cell_type": "code",
      "source": [
        "embedding_dim = 10\n",
        "hidden_dim = 16\n",
        "output_size = len(np.unique(y))\n",
        "n_epochs = 20\n",
        "n_qubits = 4\n",
        "n_qlayers = 1\n",
        "learning_rate = 1e-2\n",
        "linear_dropout = 0 # dropout for linear layers\n",
        "rnn_dropout = 0 # dropout for classical rnn layers\n",
        "rnn_layers = 1 # number of classical rnn layers\n",
        "weight_decay = 1e-4 # weight decay for optimizer / l2 regularization\n",
        "momentum = 0 # momentum for optimizer\n",
        "rnn = \"qlstm\" # rnn layer -> lstm/qlstm/gru\n",
        "rnn_bidirectional = False # bidirectionality for classical rnn layer\n",
        "\n",
        "model = LSTMClassifier(\n",
        "    embedding_dim=embedding_dim,\n",
        "    hidden_dim=hidden_dim,\n",
        "    vocab_size=vocab_size,\n",
        "    output_size=output_size,\n",
        "    n_epochs=n_epochs,\n",
        "    learning_rate=learning_rate,\n",
        "    linear_dropout=linear_dropout,\n",
        "    rnn_dropout=rnn_dropout,\n",
        "    rnn_layers=rnn_layers,\n",
        "    batch_size=batch_size,\n",
        "    weight_decay=weight_decay,\n",
        "    momentum=momentum,\n",
        "    rnn=rnn,\n",
        "    rnn_bidirectional=rnn_bidirectional,\n",
        "    n_qubits=n_qubits,\n",
        "    n_qlayers=n_qlayers,\n",
        "    torch_device=device,\n",
        ")\n",
        "model.to(device)\n",
        "\n",
        "# start training and track time\n",
        "start_time = time.time()\n",
        "\n",
        "model.fit(train_loader, val_loader)\n",
        "\n",
        "training_time = round(time.time() - start_time, 2)\n",
        "print(f\"Training time: {training_time}sec\")"
      ],
      "metadata": {
        "colab": {
          "base_uri": "https://localhost:8080/"
        },
        "id": "jsHs2Ief2ksg",
        "outputId": "3d762457-521c-4ffa-d883-53cf2e480998"
      },
      "execution_count": null,
      "outputs": [
        {
          "output_type": "stream",
          "name": "stdout",
          "text": [
            "Model will use Quantum LSTM\n",
            "weight_shapes = (n_qlayers, n_qubits) = (1, 4)\n",
            "Epoch 1 / 20: train/Loss = 0.859 val/Loss = 0.560 train/Acc = 0.58 val/Acc = 0.79\n",
            "Epoch 2 / 20: train/Loss = 0.426 val/Loss = 0.361 train/Acc = 0.81 val/Acc = 0.81\n",
            "Epoch 3 / 20: train/Loss = 0.264 val/Loss = 0.179 train/Acc = 0.90 val/Acc = 0.99\n",
            "Epoch 4 / 20: train/Loss = 0.057 val/Loss = 0.020 train/Acc = 1.00 val/Acc = 1.00\n",
            "Epoch 5 / 20: train/Loss = 0.014 val/Loss = 0.010 train/Acc = 1.00 val/Acc = 1.00\n",
            "Epoch 6 / 20: train/Loss = 0.007 val/Loss = 0.006 train/Acc = 1.00 val/Acc = 1.00\n",
            "Epoch 7 / 20: train/Loss = 0.005 val/Loss = 0.004 train/Acc = 1.00 val/Acc = 1.00\n",
            "Epoch 8 / 20: train/Loss = 0.003 val/Loss = 0.002 train/Acc = 1.00 val/Acc = 1.00\n",
            "Epoch 9 / 20: train/Loss = 0.002 val/Loss = 0.002 train/Acc = 1.00 val/Acc = 1.00\n",
            "Epoch 10 / 20: train/Loss = 0.001 val/Loss = 0.001 train/Acc = 1.00 val/Acc = 1.00\n",
            "Epoch 11 / 20: train/Loss = 0.001 val/Loss = 0.001 train/Acc = 1.00 val/Acc = 1.00\n",
            "Epoch 12 / 20: train/Loss = 0.000 val/Loss = 0.000 train/Acc = 1.00 val/Acc = 1.00\n",
            "Epoch 13 / 20: train/Loss = 0.000 val/Loss = 0.000 train/Acc = 1.00 val/Acc = 1.00\n",
            "Epoch 14 / 20: train/Loss = 0.000 val/Loss = 0.000 train/Acc = 1.00 val/Acc = 1.00\n",
            "Epoch 15 / 20: train/Loss = 0.000 val/Loss = 0.000 train/Acc = 1.00 val/Acc = 1.00\n",
            "Epoch 16 / 20: train/Loss = 0.000 val/Loss = 0.000 train/Acc = 1.00 val/Acc = 1.00\n",
            "Epoch 17 / 20: train/Loss = 0.000 val/Loss = 0.000 train/Acc = 1.00 val/Acc = 1.00\n",
            "Epoch 18 / 20: train/Loss = 0.000 val/Loss = 0.000 train/Acc = 1.00 val/Acc = 1.00\n",
            "Epoch 19 / 20: train/Loss = 0.000 val/Loss = 0.000 train/Acc = 1.00 val/Acc = 1.00\n",
            "Epoch 20 / 20: train/Loss = 0.000 val/Loss = 0.000 train/Acc = 1.00 val/Acc = 1.00\n",
            "Training time: 167.7sec\n"
          ]
        }
      ]
    },
    {
      "cell_type": "code",
      "source": [
        "plot_training(model.history)"
      ],
      "metadata": {
        "colab": {
          "base_uri": "https://localhost:8080/",
          "height": 487
        },
        "id": "hcVR9yoj2kpm",
        "outputId": "f278e883-8d2a-4df5-da9e-9767960866e0"
      },
      "execution_count": null,
      "outputs": [
        {
          "output_type": "display_data",
          "data": {
            "text/plain": [
              "<Figure size 640x480 with 2 Axes>"
            ],
            "image/png": "[encoded data removed]"
          },
          "metadata": {}
        }
      ]
    },
    {
      "cell_type": "code",
      "source": [
        "y_pred = model.predict(test_loader)\n",
        "\n",
        "acc, f1, auc, mcc = eval_metrics(y_test, y_pred)\n",
        "print(f\"Acc: {acc}, F1: {f1}, AUC: {auc}, MCC: {mcc}\")"
      ],
      "metadata": {
        "colab": {
          "base_uri": "https://localhost:8080/"
        },
        "id": "KHKeKPa32knV",
        "outputId": "d6ff0a76-4748-44dd-e198-e01f1cadd6d2"
      },
      "execution_count": null,
      "outputs": [
        {
          "output_type": "stream",
          "name": "stdout",
          "text": [
            "Acc: 1.0, F1: 1.0, AUC: 1.0, MCC: 1.0\n"
          ]
        }
      ]
    },
    {
      "cell_type": "code",
      "source": [
        "!pip install lambeq"
      ],
      "metadata": {
        "colab": {
          "base_uri": "https://localhost:8080/"
        },
        "id": "tu6CUxVB45ZM",
        "outputId": "c58fc188-ab78-4132-95e8-4fc4ab5bd92e"
      },
      "execution_count": null,
      "outputs": [
        {
          "output_type": "stream",
          "name": "stdout",
          "text": [
            "Collecting lambeq\n",
            "  Downloading lambeq-0.3.2-py3-none-any.whl (142 kB)\n",
            "\u001b[2K     \u001b[90m━━━━━━━━━━━━━━━━━━━━━━━━━━━━━━━━━━━━━━━\u001b[0m \u001b[32m142.8/142.8 kB\u001b[0m \u001b[31m3.7 MB/s\u001b[0m eta \u001b[36m0:00:00\u001b[0m\n",
            "\u001b[?25hCollecting discopy>=1.1.4 (from lambeq)\n",
            "  Downloading discopy-1.1.4-py3-none-any.whl (144 kB)\n",
            "\u001b[2K     \u001b[90m━━━━━━━━━━━━━━━━━━━━━━━━━━━━━━━━━━━━━━\u001b[0m \u001b[32m144.9/144.9 kB\u001b[0m \u001b[31m13.1 MB/s\u001b[0m eta \u001b[36m0:00:00\u001b[0m\n",
            "\u001b[?25hCollecting pytket>=0.19.2 (from lambeq)\n",
            "  Downloading pytket-1.17.0-cp310-cp310-manylinux_2_17_x86_64.manylinux2014_x86_64.whl (7.2 MB)\n",
            "\u001b[2K     \u001b[90m━━━━━━━━━━━━━━━━━━━━━━━━━━━━━━━━━━━━━━━━\u001b[0m \u001b[32m7.2/7.2 MB\u001b[0m \u001b[31m55.0 MB/s\u001b[0m eta \u001b[36m0:00:00\u001b[0m\n",
            "\u001b[?25hRequirement already satisfied: pyyaml in /usr/local/lib/python3.10/dist-packages (from lambeq) (6.0)\n",
            "Requirement already satisfied: spacy>=3.0 in /usr/local/lib/python3.10/dist-packages (from lambeq) (3.5.3)\n",
            "Collecting tensornetwork (from lambeq)\n",
            "  Downloading tensornetwork-0.4.6-py3-none-any.whl (364 kB)\n",
            "\u001b[2K     \u001b[90m━━━━━━━━━━━━━━━━━━━━━━━━━━━━━━━━━━━━━━\u001b[0m \u001b[32m364.3/364.3 kB\u001b[0m \u001b[31m27.2 MB/s\u001b[0m eta \u001b[36m0:00:00\u001b[0m\n",
            "\u001b[?25hRequirement already satisfied: torch>=1.12.1 in /usr/local/lib/python3.10/dist-packages (from lambeq) (2.0.1+cu118)\n",
            "Collecting transformers (from lambeq)\n",
            "  Downloading transformers-4.30.2-py3-none-any.whl (7.2 MB)\n",
            "\u001b[2K     \u001b[90m━━━━━━━━━━━━━━━━━━━━━━━━━━━━━━━━━━━━━━━━\u001b[0m \u001b[32m7.2/7.2 MB\u001b[0m \u001b[31m71.8 MB/s\u001b[0m eta \u001b[36m0:00:00\u001b[0m\n",
            "\u001b[?25hRequirement already satisfied: numpy>=1.18.1 in /usr/local/lib/python3.10/dist-packages (from discopy>=1.1.4->lambeq) (1.22.4)\n",
            "Requirement already satisfied: networkx>=2.4 in /usr/local/lib/python3.10/dist-packages (from discopy>=1.1.4->lambeq) (3.1)\n",
            "Requirement already satisfied: matplotlib>=3.1.2 in /usr/local/lib/python3.10/dist-packages (from discopy>=1.1.4->lambeq) (3.7.1)\n",
            "Requirement already satisfied: pillow>=6.2.1 in /usr/local/lib/python3.10/dist-packages (from discopy>=1.1.4->lambeq) (8.4.0)\n",
            "Requirement already satisfied: sympy~=1.6 in /usr/local/lib/python3.10/dist-packages (from pytket>=0.19.2->lambeq) (1.11.1)\n",
            "Collecting lark-parser~=0.7 (from pytket>=0.19.2->lambeq)\n",
            "  Downloading lark_parser-0.12.0-py2.py3-none-any.whl (103 kB)\n",
            "\u001b[2K     \u001b[90m━━━━━━━━━━━━━━━━━━━━━━━━━━━━━━━━━━━━━━\u001b[0m \u001b[32m103.5/103.5 kB\u001b[0m \u001b[31m10.2 MB/s\u001b[0m eta \u001b[36m0:00:00\u001b[0m\n",
            "\u001b[?25hRequirement already satisfied: scipy<2.0,>=1.7.2 in /usr/local/lib/python3.10/dist-packages (from pytket>=0.19.2->lambeq) (1.10.0)\n",
            "Requirement already satisfied: graphviz~=0.14 in /usr/local/lib/python3.10/dist-packages (from pytket>=0.19.2->lambeq) (0.20.1)\n",
            "Requirement already satisfied: jinja2~=3.0 in /usr/local/lib/python3.10/dist-packages (from pytket>=0.19.2->lambeq) (3.1.2)\n",
            "Collecting types-pkg-resources (from pytket>=0.19.2->lambeq)\n",
            "  Downloading types_pkg_resources-0.1.3-py2.py3-none-any.whl (4.8 kB)\n",
            "Requirement already satisfied: typing-extensions~=4.2 in /usr/local/lib/python3.10/dist-packages (from pytket>=0.19.2->lambeq) (4.6.3)\n",
            "Collecting qwasm~=1.0 (from pytket>=0.19.2->lambeq)\n",
            "  Downloading qwasm-1.0.1-py3-none-any.whl (15 kB)\n",
            "Requirement already satisfied: spacy-legacy<3.1.0,>=3.0.11 in /usr/local/lib/python3.10/dist-packages (from spacy>=3.0->lambeq) (3.0.12)\n",
            "Requirement already satisfied: spacy-loggers<2.0.0,>=1.0.0 in /usr/local/lib/python3.10/dist-packages (from spacy>=3.0->lambeq) (1.0.4)\n",
            "Requirement already satisfied: murmurhash<1.1.0,>=0.28.0 in /usr/local/lib/python3.10/dist-packages (from spacy>=3.0->lambeq) (1.0.9)\n",
            "Requirement already satisfied: cymem<2.1.0,>=2.0.2 in /usr/local/lib/python3.10/dist-packages (from spacy>=3.0->lambeq) (2.0.7)\n",
            "Requirement already satisfied: preshed<3.1.0,>=3.0.2 in /usr/local/lib/python3.10/dist-packages (from spacy>=3.0->lambeq) (3.0.8)\n",
            "Requirement already satisfied: thinc<8.2.0,>=8.1.8 in /usr/local/lib/python3.10/dist-packages (from spacy>=3.0->lambeq) (8.1.10)\n",
            "Requirement already satisfied: wasabi<1.2.0,>=0.9.1 in /usr/local/lib/python3.10/dist-packages (from spacy>=3.0->lambeq) (1.1.2)\n",
            "Requirement already satisfied: srsly<3.0.0,>=2.4.3 in /usr/local/lib/python3.10/dist-packages (from spacy>=3.0->lambeq) (2.4.6)\n",
            "Requirement already satisfied: catalogue<2.1.0,>=2.0.6 in /usr/local/lib/python3.10/dist-packages (from spacy>=3.0->lambeq) (2.0.8)\n",
            "Requirement already satisfied: typer<0.8.0,>=0.3.0 in /usr/local/lib/python3.10/dist-packages (from spacy>=3.0->lambeq) (0.7.0)\n",
            "Requirement already satisfied: pathy>=0.10.0 in /usr/local/lib/python3.10/dist-packages (from spacy>=3.0->lambeq) (0.10.2)\n",
            "Requirement already satisfied: smart-open<7.0.0,>=5.2.1 in /usr/local/lib/python3.10/dist-packages (from spacy>=3.0->lambeq) (6.3.0)\n",
            "Requirement already satisfied: tqdm<5.0.0,>=4.38.0 in /usr/local/lib/python3.10/dist-packages (from spacy>=3.0->lambeq) (4.65.0)\n",
            "Requirement already satisfied: requests<3.0.0,>=2.13.0 in /usr/local/lib/python3.10/dist-packages (from spacy>=3.0->lambeq) (2.27.1)\n",
            "Requirement already satisfied: pydantic!=1.8,!=1.8.1,<1.11.0,>=1.7.4 in /usr/local/lib/python3.10/dist-packages (from spacy>=3.0->lambeq) (1.10.9)\n",
            "Requirement already satisfied: setuptools in /usr/local/lib/python3.10/dist-packages (from spacy>=3.0->lambeq) (67.7.2)\n",
            "Requirement already satisfied: packaging>=20.0 in /usr/local/lib/python3.10/dist-packages (from spacy>=3.0->lambeq) (23.1)\n",
            "Requirement already satisfied: langcodes<4.0.0,>=3.2.0 in /usr/local/lib/python3.10/dist-packages (from spacy>=3.0->lambeq) (3.3.0)\n",
            "Requirement already satisfied: filelock in /usr/local/lib/python3.10/dist-packages (from torch>=1.12.1->lambeq) (3.12.2)\n",
            "Requirement already satisfied: triton==2.0.0 in /usr/local/lib/python3.10/dist-packages (from torch>=1.12.1->lambeq) (2.0.0)\n",
            "Requirement already satisfied: cmake in /usr/local/lib/python3.10/dist-packages (from triton==2.0.0->torch>=1.12.1->lambeq) (3.25.2)\n",
            "Requirement already satisfied: lit in /usr/local/lib/python3.10/dist-packages (from triton==2.0.0->torch>=1.12.1->lambeq) (16.0.6)\n",
            "Requirement already satisfied: opt-einsum>=2.3.0 in /usr/local/lib/python3.10/dist-packages (from tensornetwork->lambeq) (3.3.0)\n",
            "Requirement already satisfied: h5py>=2.9.0 in /usr/local/lib/python3.10/dist-packages (from tensornetwork->lambeq) (3.8.0)\n",
            "Collecting huggingface-hub<1.0,>=0.14.1 (from transformers->lambeq)\n",
            "  Downloading huggingface_hub-0.16.3-py3-none-any.whl (268 kB)\n",
            "\u001b[2K     \u001b[90m━━━━━━━━━━━━━━━━━━━━━━━━━━━━━━━━━━━━━━\u001b[0m \u001b[32m268.8/268.8 kB\u001b[0m \u001b[31m22.5 MB/s\u001b[0m eta \u001b[36m0:00:00\u001b[0m\n",
            "\u001b[?25hRequirement already satisfied: regex!=2019.12.17 in /usr/local/lib/python3.10/dist-packages (from transformers->lambeq) (2022.10.31)\n",
            "Collecting tokenizers!=0.11.3,<0.14,>=0.11.1 (from transformers->lambeq)\n",
            "  Downloading tokenizers-0.13.3-cp310-cp310-manylinux_2_17_x86_64.manylinux2014_x86_64.whl (7.8 MB)\n",
            "\u001b[2K     \u001b[90m━━━━━━━━━━━━━━━━━━━━━━━━━━━━━━━━━━━━━━━━\u001b[0m \u001b[32m7.8/7.8 MB\u001b[0m \u001b[31m73.2 MB/s\u001b[0m eta \u001b[36m0:00:00\u001b[0m\n",
            "\u001b[?25hCollecting safetensors>=0.3.1 (from transformers->lambeq)\n",
            "  Downloading safetensors-0.3.1-cp310-cp310-manylinux_2_17_x86_64.manylinux2014_x86_64.whl (1.3 MB)\n",
            "\u001b[2K     \u001b[90m━━━━━━━━━━━━━━━━━━━━━━━━━━━━━━━━━━━━━━━━\u001b[0m \u001b[32m1.3/1.3 MB\u001b[0m \u001b[31m56.5 MB/s\u001b[0m eta \u001b[36m0:00:00\u001b[0m\n",
            "\u001b[?25hRequirement already satisfied: fsspec in /usr/local/lib/python3.10/dist-packages (from huggingface-hub<1.0,>=0.14.1->transformers->lambeq) (2023.6.0)\n",
            "Requirement already satisfied: MarkupSafe>=2.0 in /usr/local/lib/python3.10/dist-packages (from jinja2~=3.0->pytket>=0.19.2->lambeq) (2.1.3)\n",
            "Requirement already satisfied: contourpy>=1.0.1 in /usr/local/lib/python3.10/dist-packages (from matplotlib>=3.1.2->discopy>=1.1.4->lambeq) (1.1.0)\n",
            "Requirement already satisfied: cycler>=0.10 in /usr/local/lib/python3.10/dist-packages (from matplotlib>=3.1.2->discopy>=1.1.4->lambeq) (0.11.0)\n",
            "Requirement already satisfied: fonttools>=4.22.0 in /usr/local/lib/python3.10/dist-packages (from matplotlib>=3.1.2->discopy>=1.1.4->lambeq) (4.40.0)\n",
            "Requirement already satisfied: kiwisolver>=1.0.1 in /usr/local/lib/python3.10/dist-packages (from matplotlib>=3.1.2->discopy>=1.1.4->lambeq) (1.4.4)\n",
            "Requirement already satisfied: pyparsing>=2.3.1 in /usr/local/lib/python3.10/dist-packages (from matplotlib>=3.1.2->discopy>=1.1.4->lambeq) (3.1.0)\n",
            "Requirement already satisfied: python-dateutil>=2.7 in /usr/local/lib/python3.10/dist-packages (from matplotlib>=3.1.2->discopy>=1.1.4->lambeq) (2.8.2)\n",
            "Requirement already satisfied: urllib3<1.27,>=1.21.1 in /usr/local/lib/python3.10/dist-packages (from requests<3.0.0,>=2.13.0->spacy>=3.0->lambeq) (1.26.16)\n",
            "Requirement already satisfied: certifi>=2017.4.17 in /usr/local/lib/python3.10/dist-packages (from requests<3.0.0,>=2.13.0->spacy>=3.0->lambeq) (2023.5.7)\n",
            "Requirement already satisfied: charset-normalizer~=2.0.0 in /usr/local/lib/python3.10/dist-packages (from requests<3.0.0,>=2.13.0->spacy>=3.0->lambeq) (2.0.12)\n",
            "Requirement already satisfied: idna<4,>=2.5 in /usr/local/lib/python3.10/dist-packages (from requests<3.0.0,>=2.13.0->spacy>=3.0->lambeq) (3.4)\n",
            "Requirement already satisfied: mpmath>=0.19 in /usr/local/lib/python3.10/dist-packages (from sympy~=1.6->pytket>=0.19.2->lambeq) (1.3.0)\n",
            "Requirement already satisfied: blis<0.8.0,>=0.7.8 in /usr/local/lib/python3.10/dist-packages (from thinc<8.2.0,>=8.1.8->spacy>=3.0->lambeq) (0.7.9)\n",
            "Requirement already satisfied: confection<1.0.0,>=0.0.1 in /usr/local/lib/python3.10/dist-packages (from thinc<8.2.0,>=8.1.8->spacy>=3.0->lambeq) (0.0.4)\n",
            "Requirement already satisfied: click<9.0.0,>=7.1.1 in /usr/local/lib/python3.10/dist-packages (from typer<0.8.0,>=0.3.0->spacy>=3.0->lambeq) (8.1.3)\n",
            "Requirement already satisfied: six>=1.5 in /usr/local/lib/python3.10/dist-packages (from python-dateutil>=2.7->matplotlib>=3.1.2->discopy>=1.1.4->lambeq) (1.16.0)\n",
            "Installing collected packages: types-pkg-resources, tokenizers, safetensors, lark-parser, qwasm, tensornetwork, pytket, huggingface-hub, transformers, discopy, lambeq\n",
            "Successfully installed discopy-1.1.4 huggingface-hub-0.16.3 lambeq-0.3.2 lark-parser-0.12.0 pytket-1.17.0 qwasm-1.0.1 safetensors-0.3.1 tensornetwork-0.4.6 tokenizers-0.13.3 transformers-4.30.2 types-pkg-resources-0.1.3\n"
          ]
        }
      ]
    },
    {
      "cell_type": "code",
      "source": [
        "!pip install discopy"
      ],
      "metadata": {
        "colab": {
          "base_uri": "https://localhost:8080/"
        },
        "id": "CkyCyenZ5Kwa",
        "outputId": "2ac74250-61bd-41a8-9f87-a36632439cb8"
      },
      "execution_count": null,
      "outputs": [
        {
          "output_type": "stream",
          "name": "stdout",
          "text": [
            "Requirement already satisfied: discopy in /usr/local/lib/python3.10/dist-packages (1.1.4)\n",
            "Requirement already satisfied: numpy>=1.18.1 in /usr/local/lib/python3.10/dist-packages (from discopy) (1.22.4)\n",
            "Requirement already satisfied: networkx>=2.4 in /usr/local/lib/python3.10/dist-packages (from discopy) (3.1)\n",
            "Requirement already satisfied: matplotlib>=3.1.2 in /usr/local/lib/python3.10/dist-packages (from discopy) (3.7.1)\n",
            "Requirement already satisfied: pillow>=6.2.1 in /usr/local/lib/python3.10/dist-packages (from discopy) (8.4.0)\n",
            "Requirement already satisfied: contourpy>=1.0.1 in /usr/local/lib/python3.10/dist-packages (from matplotlib>=3.1.2->discopy) (1.1.0)\n",
            "Requirement already satisfied: cycler>=0.10 in /usr/local/lib/python3.10/dist-packages (from matplotlib>=3.1.2->discopy) (0.11.0)\n",
            "Requirement already satisfied: fonttools>=4.22.0 in /usr/local/lib/python3.10/dist-packages (from matplotlib>=3.1.2->discopy) (4.40.0)\n",
            "Requirement already satisfied: kiwisolver>=1.0.1 in /usr/local/lib/python3.10/dist-packages (from matplotlib>=3.1.2->discopy) (1.4.4)\n",
            "Requirement already satisfied: packaging>=20.0 in /usr/local/lib/python3.10/dist-packages (from matplotlib>=3.1.2->discopy) (23.1)\n",
            "Requirement already satisfied: pyparsing>=2.3.1 in /usr/local/lib/python3.10/dist-packages (from matplotlib>=3.1.2->discopy) (3.1.0)\n",
            "Requirement already satisfied: python-dateutil>=2.7 in /usr/local/lib/python3.10/dist-packages (from matplotlib>=3.1.2->discopy) (2.8.2)\n",
            "Requirement already satisfied: six>=1.5 in /usr/local/lib/python3.10/dist-packages (from python-dateutil>=2.7->matplotlib>=3.1.2->discopy) (1.16.0)\n"
          ]
        }
      ]
    },
    {
      "cell_type": "code",
      "source": [
        "!pip install pytket-qiskit"
      ],
      "metadata": {
        "colab": {
          "base_uri": "https://localhost:8080/",
          "height": 1000
        },
        "id": "h14rErUp6Yh7",
        "outputId": "8e76c6f9-d83d-42da-9cb7-961edc658192"
      },
      "execution_count": null,
      "outputs": [
        {
          "output_type": "stream",
          "name": "stdout",
          "text": [
            "Collecting pytket-qiskit\n",
            "  Downloading pytket_qiskit-0.41.0-py3-none-any.whl (45 kB)\n",
            "\u001b[?25l     \u001b[90m━━━━━━━━━━━━━━━━━━━━━━━━━━━━━━━━━━━━━━━━\u001b[0m \u001b[32m0.0/45.4 kB\u001b[0m \u001b[31m?\u001b[0m eta \u001b[36m-:--:--\u001b[0m\r\u001b[2K     \u001b[90m━━━━━━━━━━━━━━━━━━━━━━━━━━━━━━━━━━━━━━━━\u001b[0m \u001b[32m45.4/45.4 kB\u001b[0m \u001b[31m3.0 MB/s\u001b[0m eta \u001b[36m0:00:00\u001b[0m\n",
            "\u001b[?25hRequirement already satisfied: pytket~=1.17 in /usr/local/lib/python3.10/dist-packages (from pytket-qiskit) (1.17.0)\n",
            "Collecting qiskit~=0.43.1 (from pytket-qiskit)\n",
            "  Downloading qiskit-0.43.2.tar.gz (9.1 kB)\n",
            "  Installing build dependencies ... \u001b[?25l\u001b[?25hdone\n",
            "  Getting requirements to build wheel ... \u001b[?25l\u001b[?25hdone\n",
            "  Installing backend dependencies ... \u001b[?25l\u001b[?25hdone\n",
            "  Preparing metadata (pyproject.toml) ... \u001b[?25l\u001b[?25hdone\n",
            "Collecting qiskit-ibm-runtime~=0.11.1 (from pytket-qiskit)\n",
            "  Downloading qiskit_ibm_runtime-0.11.1-py3-none-any.whl (139 kB)\n",
            "\u001b[2K     \u001b[90m━━━━━━━━━━━━━━━━━━━━━━━━━━━━━━━━━━━━━━━\u001b[0m \u001b[32m139.9/139.9 kB\u001b[0m \u001b[31m6.2 MB/s\u001b[0m eta \u001b[36m0:00:00\u001b[0m\n",
            "\u001b[?25hCollecting qiskit-aer~=0.12.0 (from pytket-qiskit)\n",
            "  Downloading qiskit_aer-0.12.1-cp310-cp310-manylinux_2_17_x86_64.manylinux2014_x86_64.whl (12.8 MB)\n",
            "\u001b[2K     \u001b[90m━━━━━━━━━━━━━━━━━━━━━━━━━━━━━━━━━━━━━━━━\u001b[0m \u001b[32m12.8/12.8 MB\u001b[0m \u001b[31m75.5 MB/s\u001b[0m eta \u001b[36m0:00:00\u001b[0m\n",
            "\u001b[?25hCollecting qiskit-ibm-provider~=0.6.1 (from pytket-qiskit)\n",
            "  Downloading qiskit_ibm_provider-0.6.1-py3-none-any.whl (233 kB)\n",
            "\u001b[2K     \u001b[90m━━━━━━━━━━━━━━━━━━━━━━━━━━━━━━━━━━━━━━\u001b[0m \u001b[32m233.8/233.8 kB\u001b[0m \u001b[31m21.6 MB/s\u001b[0m eta \u001b[36m0:00:00\u001b[0m\n",
            "\u001b[?25hRequirement already satisfied: numpy in /usr/local/lib/python3.10/dist-packages (from pytket-qiskit) (1.22.4)\n",
            "Requirement already satisfied: sympy~=1.6 in /usr/local/lib/python3.10/dist-packages (from pytket~=1.17->pytket-qiskit) (1.11.1)\n",
            "Requirement already satisfied: lark-parser~=0.7 in /usr/local/lib/python3.10/dist-packages (from pytket~=1.17->pytket-qiskit) (0.12.0)\n",
            "Requirement already satisfied: scipy<2.0,>=1.7.2 in /usr/local/lib/python3.10/dist-packages (from pytket~=1.17->pytket-qiskit) (1.10.0)\n",
            "Requirement already satisfied: networkx>=2.8.8 in /usr/local/lib/python3.10/dist-packages (from pytket~=1.17->pytket-qiskit) (3.1)\n",
            "Requirement already satisfied: graphviz~=0.14 in /usr/local/lib/python3.10/dist-packages (from pytket~=1.17->pytket-qiskit) (0.20.1)\n",
            "Requirement already satisfied: jinja2~=3.0 in /usr/local/lib/python3.10/dist-packages (from pytket~=1.17->pytket-qiskit) (3.1.2)\n",
            "Requirement already satisfied: types-pkg-resources in /usr/local/lib/python3.10/dist-packages (from pytket~=1.17->pytket-qiskit) (0.1.3)\n",
            "Requirement already satisfied: typing-extensions~=4.2 in /usr/local/lib/python3.10/dist-packages (from pytket~=1.17->pytket-qiskit) (4.6.3)\n",
            "Requirement already satisfied: qwasm~=1.0 in /usr/local/lib/python3.10/dist-packages (from pytket~=1.17->pytket-qiskit) (1.0.1)\n",
            "Collecting qiskit-terra==0.24.1 (from qiskit~=0.43.1->pytket-qiskit)\n",
            "  Downloading qiskit_terra-0.24.1-cp310-cp310-manylinux_2_17_x86_64.manylinux2014_x86_64.whl (5.9 MB)\n",
            "\u001b[2K     \u001b[90m━━━━━━━━━━━━━━━━━━━━━━━━━━━━━━━━━━━━━━━━\u001b[0m \u001b[32m5.9/5.9 MB\u001b[0m \u001b[31m43.6 MB/s\u001b[0m eta \u001b[36m0:00:00\u001b[0m\n",
            "\u001b[?25hCollecting qiskit-ibmq-provider==0.20.2 (from qiskit~=0.43.1->pytket-qiskit)\n",
            "  Downloading qiskit_ibmq_provider-0.20.2-py3-none-any.whl (241 kB)\n",
            "\u001b[2K     \u001b[90m━━━━━━━━━━━━━━━━━━━━━━━━━━━━━━━━━━━━━━\u001b[0m \u001b[32m241.5/241.5 kB\u001b[0m \u001b[31m19.7 MB/s\u001b[0m eta \u001b[36m0:00:00\u001b[0m\n",
            "\u001b[?25hRequirement already satisfied: requests>=2.19 in /usr/local/lib/python3.10/dist-packages (from qiskit-ibmq-provider==0.20.2->qiskit~=0.43.1->pytket-qiskit) (2.27.1)\n",
            "Collecting requests-ntlm<=1.1.0 (from qiskit-ibmq-provider==0.20.2->qiskit~=0.43.1->pytket-qiskit)\n",
            "  Downloading requests_ntlm-1.1.0-py2.py3-none-any.whl (5.7 kB)\n",
            "Requirement already satisfied: urllib3>=1.21.1 in /usr/local/lib/python3.10/dist-packages (from qiskit-ibmq-provider==0.20.2->qiskit~=0.43.1->pytket-qiskit) (1.26.16)\n",
            "Requirement already satisfied: python-dateutil>=2.8.0 in /usr/local/lib/python3.10/dist-packages (from qiskit-ibmq-provider==0.20.2->qiskit~=0.43.1->pytket-qiskit) (2.8.2)\n",
            "Requirement already satisfied: websocket-client>=1.5.1 in /usr/local/lib/python3.10/dist-packages (from qiskit-ibmq-provider==0.20.2->qiskit~=0.43.1->pytket-qiskit) (1.6.0)\n",
            "Collecting websockets>=10.0 (from qiskit-ibmq-provider==0.20.2->qiskit~=0.43.1->pytket-qiskit)\n",
            "  Downloading websockets-11.0.3-cp310-cp310-manylinux_2_5_x86_64.manylinux1_x86_64.manylinux_2_17_x86_64.manylinux2014_x86_64.whl (129 kB)\n",
            "\u001b[2K     \u001b[90m━━━━━━━━━━━━━━━━━━━━━━━━━━━━━━━━━━━━━━\u001b[0m \u001b[32m129.9/129.9 kB\u001b[0m \u001b[31m11.7 MB/s\u001b[0m eta \u001b[36m0:00:00\u001b[0m\n",
            "\u001b[?25hRequirement already satisfied: rustworkx>=0.12.0 in /usr/local/lib/python3.10/dist-packages (from qiskit-terra==0.24.1->qiskit~=0.43.1->pytket-qiskit) (0.13.0)\n",
            "Collecting ply>=3.10 (from qiskit-terra==0.24.1->qiskit~=0.43.1->pytket-qiskit)\n",
            "  Downloading ply-3.11-py2.py3-none-any.whl (49 kB)\n",
            "\u001b[2K     \u001b[90m━━━━━━━━━━━━━━━━━━━━━━━━━━━━━━━━━━━━━━━━\u001b[0m \u001b[32m49.6/49.6 kB\u001b[0m \u001b[31m5.0 MB/s\u001b[0m eta \u001b[36m0:00:00\u001b[0m\n",
            "\u001b[?25hRequirement already satisfied: psutil>=5 in /usr/local/lib/python3.10/dist-packages (from qiskit-terra==0.24.1->qiskit~=0.43.1->pytket-qiskit) (5.9.5)\n",
            "Collecting dill>=0.3 (from qiskit-terra==0.24.1->qiskit~=0.43.1->pytket-qiskit)\n",
            "  Downloading dill-0.3.6-py3-none-any.whl (110 kB)\n",
            "\u001b[2K     \u001b[90m━━━━━━━━━━━━━━━━━━━━━━━━━━━━━━━━━━━━━━\u001b[0m \u001b[32m110.5/110.5 kB\u001b[0m \u001b[31m10.6 MB/s\u001b[0m eta \u001b[36m0:00:00\u001b[0m\n",
            "\u001b[?25hCollecting stevedore>=3.0.0 (from qiskit-terra==0.24.1->qiskit~=0.43.1->pytket-qiskit)\n",
            "  Downloading stevedore-5.1.0-py3-none-any.whl (49 kB)\n",
            "\u001b[2K     \u001b[90m━━━━━━━━━━━━━━━━━━━━━━━━━━━━━━━━━━━━━━━━\u001b[0m \u001b[32m49.6/49.6 kB\u001b[0m \u001b[31m5.1 MB/s\u001b[0m eta \u001b[36m0:00:00\u001b[0m\n",
            "\u001b[?25hCollecting symengine<0.10,>=0.9 (from qiskit-terra==0.24.1->qiskit~=0.43.1->pytket-qiskit)\n",
            "  Downloading symengine-0.9.2-cp310-cp310-manylinux2010_x86_64.whl (37.5 MB)\n",
            "\u001b[2K     \u001b[90m━━━━━━━━━━━━━━━━━━━━━━━━━━━━━━━━━━━━━━━━\u001b[0m \u001b[32m37.5/37.5 MB\u001b[0m \u001b[31m9.1 MB/s\u001b[0m eta \u001b[36m0:00:00\u001b[0m\n",
            "\u001b[?25hCollecting ibm-platform-services>=0.22.6 (from qiskit-ibm-runtime~=0.11.1->pytket-qiskit)\n",
            "  Downloading ibm-platform-services-0.38.0.tar.gz (254 kB)\n",
            "\u001b[2K     \u001b[90m━━━━━━━━━━━━━━━━━━━━━━━━━━━━━━━━━━━━━━\u001b[0m \u001b[32m254.2/254.2 kB\u001b[0m \u001b[31m19.8 MB/s\u001b[0m eta \u001b[36m0:00:00\u001b[0m\n",
            "\u001b[?25h  Installing build dependencies ... \u001b[?25l\u001b[?25hdone\n",
            "  Getting requirements to build wheel ... \u001b[?25l\u001b[?25hdone\n",
            "  Preparing metadata (pyproject.toml) ... \u001b[?25l\u001b[?25hdone\n",
            "Collecting requests>=2.19 (from qiskit-ibmq-provider==0.20.2->qiskit~=0.43.1->pytket-qiskit)\n",
            "  Downloading requests-2.31.0-py3-none-any.whl (62 kB)\n",
            "\u001b[2K     \u001b[90m━━━━━━━━━━━━━━━━━━━━━━━━━━━━━━━━━━━━━━━━\u001b[0m \u001b[32m62.6/62.6 kB\u001b[0m \u001b[31m5.6 MB/s\u001b[0m eta \u001b[36m0:00:00\u001b[0m\n",
            "\u001b[?25hCollecting ibm-cloud-sdk-core<4.0.0,>=3.16.7 (from ibm-platform-services>=0.22.6->qiskit-ibm-runtime~=0.11.1->pytket-qiskit)\n",
            "  Downloading ibm-cloud-sdk-core-3.16.7.tar.gz (52 kB)\n",
            "\u001b[2K     \u001b[90m━━━━━━━━━━━━━━━━━━━━━━━━━━━━━━━━━━━━━━━━\u001b[0m \u001b[32m52.3/52.3 kB\u001b[0m \u001b[31m5.2 MB/s\u001b[0m eta \u001b[36m0:00:00\u001b[0m\n",
            "\u001b[?25h  Installing build dependencies ... \u001b[?25l\u001b[?25hdone\n",
            "  Getting requirements to build wheel ... \u001b[?25l\u001b[?25hdone\n",
            "  Preparing metadata (pyproject.toml) ... \u001b[?25l\u001b[?25hdone\n",
            "Requirement already satisfied: MarkupSafe>=2.0 in /usr/local/lib/python3.10/dist-packages (from jinja2~=3.0->pytket~=1.17->pytket-qiskit) (2.1.3)\n",
            "Requirement already satisfied: six>=1.5 in /usr/local/lib/python3.10/dist-packages (from python-dateutil>=2.8.0->qiskit-ibmq-provider==0.20.2->qiskit~=0.43.1->pytket-qiskit) (1.16.0)\n",
            "Requirement already satisfied: setuptools in /usr/local/lib/python3.10/dist-packages (from qwasm~=1.0->pytket~=1.17->pytket-qiskit) (67.7.2)\n",
            "Requirement already satisfied: charset-normalizer<4,>=2 in /usr/local/lib/python3.10/dist-packages (from requests>=2.19->qiskit-ibmq-provider==0.20.2->qiskit~=0.43.1->pytket-qiskit) (2.0.12)\n",
            "Requirement already satisfied: idna<4,>=2.5 in /usr/local/lib/python3.10/dist-packages (from requests>=2.19->qiskit-ibmq-provider==0.20.2->qiskit~=0.43.1->pytket-qiskit) (3.4)\n",
            "Requirement already satisfied: certifi>=2017.4.17 in /usr/local/lib/python3.10/dist-packages (from requests>=2.19->qiskit-ibmq-provider==0.20.2->qiskit~=0.43.1->pytket-qiskit) (2023.5.7)\n",
            "Collecting ntlm-auth>=1.0.2 (from requests-ntlm<=1.1.0->qiskit-ibmq-provider==0.20.2->qiskit~=0.43.1->pytket-qiskit)\n",
            "  Downloading ntlm_auth-1.5.0-py2.py3-none-any.whl (29 kB)\n",
            "Collecting cryptography>=1.3 (from requests-ntlm<=1.1.0->qiskit-ibmq-provider==0.20.2->qiskit~=0.43.1->pytket-qiskit)\n",
            "  Downloading cryptography-41.0.1-cp37-abi3-manylinux_2_28_x86_64.whl (4.3 MB)\n",
            "\u001b[2K     \u001b[90m━━━━━━━━━━━━━━━━━━━━━━━━━━━━━━━━━━━━━━━━\u001b[0m \u001b[32m4.3/4.3 MB\u001b[0m \u001b[31m69.7 MB/s\u001b[0m eta \u001b[36m0:00:00\u001b[0m\n",
            "\u001b[?25hRequirement already satisfied: mpmath>=0.19 in /usr/local/lib/python3.10/dist-packages (from sympy~=1.6->pytket~=1.17->pytket-qiskit) (1.3.0)\n",
            "Requirement already satisfied: cffi>=1.12 in /usr/local/lib/python3.10/dist-packages (from cryptography>=1.3->requests-ntlm<=1.1.0->qiskit-ibmq-provider==0.20.2->qiskit~=0.43.1->pytket-qiskit) (1.15.1)\n",
            "Collecting PyJWT<3.0.0,>=2.4.0 (from ibm-cloud-sdk-core<4.0.0,>=3.16.7->ibm-platform-services>=0.22.6->qiskit-ibm-runtime~=0.11.1->pytket-qiskit)\n",
            "  Downloading PyJWT-2.7.0-py3-none-any.whl (22 kB)\n",
            "Collecting pbr!=2.1.0,>=2.0.0 (from stevedore>=3.0.0->qiskit-terra==0.24.1->qiskit~=0.43.1->pytket-qiskit)\n",
            "  Downloading pbr-5.11.1-py2.py3-none-any.whl (112 kB)\n",
            "\u001b[2K     \u001b[90m━━━━━━━━━━━━━━━━━━━━━━━━━━━━━━━━━━━━━━━\u001b[0m \u001b[32m112.7/112.7 kB\u001b[0m \u001b[31m9.8 MB/s\u001b[0m eta \u001b[36m0:00:00\u001b[0m\n",
            "\u001b[?25hRequirement already satisfied: pycparser in /usr/local/lib/python3.10/dist-packages (from cffi>=1.12->cryptography>=1.3->requests-ntlm<=1.1.0->qiskit-ibmq-provider==0.20.2->qiskit~=0.43.1->pytket-qiskit) (2.21)\n",
            "Building wheels for collected packages: qiskit, ibm-platform-services, ibm-cloud-sdk-core\n",
            "  Building wheel for qiskit (pyproject.toml) ... \u001b[?25l\u001b[?25hdone\n",
            "  Created wheel for qiskit: filename=qiskit-0.43.2-py3-none-any.whl size=7640 sha256=b9218fb868c08c68bc800153c72a9b21172c8efd3934ed4f73886c02282e702a\n",
            "  Stored in directory: /root/.cache/pip/wheels/d4/ad/4f/f54eb8743e54c5bab69837b842cf56a8a87ac7c57a2abf85ad\n",
            "  Building wheel for ibm-platform-services (pyproject.toml) ... \u001b[?25l\u001b[?25hdone\n",
            "  Created wheel for ibm-platform-services: filename=ibm_platform_services-0.38.0-py3-none-any.whl size=269268 sha256=39f9f8cb0fb8a4c4cc4421f4f1edeee97a69d036e9d93f657ff4c3c8cbf21027\n",
            "  Stored in directory: /root/.cache/pip/wheels/66/d1/ce/c1e7012107226e244456bb31787947ea489cd6b4ac0dcd4223\n",
            "  Building wheel for ibm-cloud-sdk-core (pyproject.toml) ... \u001b[?25l\u001b[?25hdone\n",
            "  Created wheel for ibm-cloud-sdk-core: filename=ibm_cloud_sdk_core-3.16.7-py3-none-any.whl size=85614 sha256=c08c8e3d8708f182238baa56cb3024e4abaffb916ff3829dbe0fdb20eb5042ac\n",
            "  Stored in directory: /root/.cache/pip/wheels/57/9c/ed/611f998db826deaeedadd824c8a0427a677136325358d79fdc\n",
            "Successfully built qiskit ibm-platform-services ibm-cloud-sdk-core\n",
            "Installing collected packages: ply, websockets, symengine, requests, PyJWT, pbr, ntlm-auth, dill, stevedore, ibm-cloud-sdk-core, cryptography, requests-ntlm, qiskit-terra, ibm-platform-services, qiskit-ibmq-provider, qiskit-ibm-provider, qiskit-aer, qiskit-ibm-runtime, qiskit, pytket-qiskit\n",
            "  Attempting uninstall: requests\n",
            "    Found existing installation: requests 2.27.1\n",
            "    Uninstalling requests-2.27.1:\n",
            "      Successfully uninstalled requests-2.27.1\n",
            "\u001b[31mERROR: pip's dependency resolver does not currently take into account all the packages that are installed. This behaviour is the source of the following dependency conflicts.\n",
            "google-colab 1.0.0 requires requests==2.27.1, but you have requests 2.31.0 which is incompatible.\u001b[0m\u001b[31m\n",
            "\u001b[0mSuccessfully installed PyJWT-2.7.0 cryptography-41.0.1 dill-0.3.6 ibm-cloud-sdk-core-3.16.7 ibm-platform-services-0.38.0 ntlm-auth-1.5.0 pbr-5.11.1 ply-3.11 pytket-qiskit-0.41.0 qiskit-0.43.2 qiskit-aer-0.12.1 qiskit-ibm-provider-0.6.1 qiskit-ibm-runtime-0.11.1 qiskit-ibmq-provider-0.20.2 qiskit-terra-0.24.1 requests-2.31.0 requests-ntlm-1.1.0 stevedore-5.1.0 symengine-0.9.2 websockets-11.0.3\n"
          ]
        },
        {
          "output_type": "display_data",
          "data": {
            "application/vnd.colab-display-data+json": {
              "pip_warning": {
                "packages": [
                  "pytket",
                  "requests"
                ]
              }
            }
          },
          "metadata": {}
        }
      ]
    },
    {
      "cell_type": "code",
      "source": [
        "import warnings\n",
        "\n",
        "warnings.filterwarnings(\"ignore\")\n",
        "import os\n",
        "import numpy as np\n",
        "import pandas as pd\n",
        "\n",
        "os.environ[\"TOKENIZERS_PARALLELISM\"] = \"false\"\n",
        "import json\n",
        "import time\n",
        "from sklearn.model_selection import train_test_split\n",
        "from lambeq import (\n",
        "    remove_cups,\n",
        "    Rewriter,\n",
        "    AtomicType,\n",
        "    IQPAnsatz,\n",
        "    Dataset,\n",
        "    TketModel,\n",
        "    QuantumTrainer,\n",
        "    SPSAOptimizer,\n",
        "    BobcatParser,\n",
        ")\n",
        "from discopy.frobenius import Dim\n",
        "from copy import copy\n",
        "from pytket.extensions.qiskit import AerBackend"
      ],
      "metadata": {
        "id": "u9MDIXBH2kk8"
      },
      "execution_count": null,
      "outputs": []
    },
    {
      "cell_type": "code",
      "source": [
        "def conv_labels_2d(y: list):\n",
        "    target = []\n",
        "    for y_i in y:\n",
        "        if y_i == 0:\n",
        "            target.append([1, 0])\n",
        "        else:\n",
        "            target.append([0, 1])\n",
        "    return target\n",
        "\n",
        "\n",
        "df = pd.read_csv(\"moderate_complexity.csv\")\n",
        "\n",
        "\n",
        "# filter neutral instances to achieve binary classification\n",
        "filter_labels = df[\"label\"].apply(lambda x: x in [0, 2])\n",
        "labels_idx = filter_labels[filter_labels == True].index\n",
        "df_bin = df[df.index.isin(labels_idx)]\n",
        "\n",
        "# train test split\n",
        "X_train, X_test, y_train, y_test = train_test_split(\n",
        "    df_bin[\"text\"], df_bin[\"label\"], test_size=0.2, random_state=42\n",
        ")\n",
        "# train val split\n",
        "X_train, X_val, y_train, y_val = train_test_split(\n",
        "    X_train, y_train, test_size=0.1, random_state=42\n",
        ")\n",
        "\n",
        "X_train = X_train.to_list()\n",
        "X_val = X_val.to_list()\n",
        "X_test = X_test.to_list()\n",
        "y_train = y_train.to_list()\n",
        "y_val = y_val.to_list()\n",
        "y_test = y_test.to_list()\n",
        "\n",
        "y_train = conv_labels_2d(y_train)\n",
        "y_val = conv_labels_2d(y_val)\n",
        "y_test = conv_labels_2d(y_test)"
      ],
      "metadata": {
        "id": "9ZYg9OST40Ym"
      },
      "execution_count": null,
      "outputs": []
    },
    {
      "cell_type": "code",
      "source": [
        "print(np.shape(y_train), np.shape(y_val), np.shape(y_test))"
      ],
      "metadata": {
        "colab": {
          "base_uri": "https://localhost:8080/"
        },
        "id": "vNWjskIw40Vf",
        "outputId": "2bb281f8-b205-4921-a540-bac76e96db78"
      },
      "execution_count": null,
      "outputs": [
        {
          "output_type": "stream",
          "name": "stdout",
          "text": [
            "(615, 2) (69, 2) (171, 2)\n"
          ]
        }
      ]
    },
    {
      "cell_type": "code",
      "source": [
        "parser = BobcatParser(verbose='text')\n",
        "\n",
        "raw_train_diagrams = parser.sentences2diagrams(X_train, suppress_exceptions=True)\n",
        "raw_val_diagrams = parser.sentences2diagrams(X_val, suppress_exceptions=True)\n",
        "raw_test_diagrams = parser.sentences2diagrams(X_test, suppress_exceptions=True)"
      ],
      "metadata": {
        "colab": {
          "base_uri": "https://localhost:8080/"
        },
        "id": "e522RzGw40SO",
        "outputId": "150c53a1-2778-4269-a2d7-439c7ebedc3e"
      },
      "execution_count": null,
      "outputs": [
        {
          "output_type": "stream",
          "name": "stderr",
          "text": [
            "Tagging sentences.\n",
            "Parsing tagged sentences.\n",
            "Turning parse trees to diagrams.\n",
            "Tagging sentences.\n",
            "Parsing tagged sentences.\n",
            "Turning parse trees to diagrams.\n",
            "Tagging sentences.\n",
            "Parsing tagged sentences.\n",
            "Turning parse trees to diagrams.\n"
          ]
        }
      ]
    },
    {
      "cell_type": "code",
      "source": [
        "def find_indices(list_to_check, item_to_find):\n",
        "    indices = []\n",
        "    for idx, value in enumerate(list_to_check):\n",
        "        if value == item_to_find:\n",
        "            indices.append(idx)\n",
        "    return indices\n",
        "\n",
        "if None in raw_train_diagrams or None in raw_val_diagrams or None in raw_test_diagrams:\n",
        "    print(\"Errors while parsing.\")\n",
        "    train_error_sent_idx = find_indices(raw_train_diagrams, None)\n",
        "    val_error_sent_idx = find_indices(raw_val_diagrams, None)\n",
        "    test_error_sent_idx = find_indices(raw_test_diagrams, None)\n",
        "\n",
        "    # filter errors\n",
        "    raw_train_diagrams = list(filter(lambda x : x is not None, raw_train_diagrams))\n",
        "    raw_val_diagrams = list(filter(lambda x : x is not None, raw_val_diagrams))\n",
        "    raw_test_diagrams = list(filter(lambda x : x is not None, raw_test_diagrams))\n",
        "\n",
        "    # remove errors from target\n",
        "    y_train = [target for idx, target in enumerate(y_train) if idx not in train_error_sent_idx]\n",
        "    y_val = [target for idx, target in enumerate(y_val) if idx not in val_error_sent_idx]\n",
        "    y_test = [target for idx, target in enumerate(y_test) if idx not in test_error_sent_idx]\n",
        "else:\n",
        "    print(\"No errors while parsing.\")"
      ],
      "metadata": {
        "colab": {
          "base_uri": "https://localhost:8080/"
        },
        "id": "fYLqDPI140PX",
        "outputId": "b634825a-d082-4429-d176-354be75f9a2c"
      },
      "execution_count": null,
      "outputs": [
        {
          "output_type": "stream",
          "name": "stdout",
          "text": [
            "No errors while parsing.\n"
          ]
        }
      ]
    },
    {
      "cell_type": "code",
      "source": [],
      "metadata": {
        "id": "na0R9_Ku2kbG"
      },
      "execution_count": null,
      "outputs": []
    },
    {
      "cell_type": "code",
      "source": [],
      "metadata": {
        "id": "tnaSVkcF2kYI"
      },
      "execution_count": null,
      "outputs": []
    },
    {
      "cell_type": "code",
      "source": [],
      "metadata": {
        "id": "uJab97OK2OkW"
      },
      "execution_count": null,
      "outputs": []
    },
    {
      "cell_type": "code",
      "source": [],
      "metadata": {
        "id": "CmV9g0cj2Ogl"
      },
      "execution_count": null,
      "outputs": []
    }
  ]
}